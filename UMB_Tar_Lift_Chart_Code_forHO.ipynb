{
 "cells": [
  {
   "cell_type": "markdown",
   "id": "ac473d99-c7e7-4f61-b830-56fb234731de",
   "metadata": {
    "tags": []
   },
   "source": [
    "### Code for UMB Lift charts, QQ plot and Gini curve"
   ]
  },
  {
   "cell_type": "code",
   "execution_count": null,
   "id": "2e8e6a15-e617-428e-ba69-5e2779edde70",
   "metadata": {},
   "outputs": [],
   "source": [
    "# Harsh 10/26/2023\n",
    "# Code for UMB Lift charts, QQ plot and Gini curve\n",
    "# Used for ascertaining the credibility of UMB_Tar model and determining its appropriate weight in the overall mix of 3 models\n",
    "# Iterated for different weights for UMB_Tar - 20%, 30%"
   ]
  },
  {
   "cell_type": "code",
   "execution_count": null,
   "id": "3853c650-ab39-4021-ba9e-87b73f9449e6",
   "metadata": {
    "tags": []
   },
   "outputs": [],
   "source": [
    "# !pip install pyarrow\n",
    "# !pip install s3fs"
   ]
  },
  {
   "cell_type": "code",
   "execution_count": 1,
   "id": "bc459ca4-1123-41e9-9a0b-68c373f3bd03",
   "metadata": {
    "tags": []
   },
   "outputs": [],
   "source": [
    "import pandas as pd\n",
    "import json\n",
    "import numpy as np"
   ]
  },
  {
   "cell_type": "code",
   "execution_count": null,
   "id": "7791c986-1301-492b-8ef8-c74d077e6cec",
   "metadata": {},
   "outputs": [],
   "source": []
  },
  {
   "cell_type": "code",
   "execution_count": null,
   "id": "bd138629-5b12-432b-952a-8f141e15138f",
   "metadata": {},
   "outputs": [],
   "source": [
    "# Have a look at the data - run separately for UMB & UMB_Tar data\n",
    "#grabbing the column name for later cells\n",
    "pd.set_option('display.max_rows', 10)\n",
    "# UMB UMB_LL\n",
    "# df =  pd.read_parquet('s3://cortex-pdm-propertyspecialty/Auto/2021q2/final_data_umb_elig_part_new/2023-03-07_chunk_6.parquet'  , engine = 'pyarrow')\n",
    "# UMB_Tar\n",
    "df =  pd.read_parquet('s3://cortex-pdm-propertyspecialty/Auto/2022q3/UmbAttr_PostTU_LVL_Part/2023-02-14_chunk_0.parquet'  , engine = 'pyarrow')\n",
    "# print(df)\n",
    "list(df)\n",
    "for col in df.columns:\n",
    "    print(col)"
   ]
  },
  {
   "cell_type": "code",
   "execution_count": null,
   "id": "72c7325d-f3b6-4167-b444-31f8958ee5f3",
   "metadata": {
    "tags": []
   },
   "outputs": [],
   "source": [
    "#number = list(range(0, 1))\n",
    "# number = list(range(0, 19))\n",
    "number = list(range(0,5))\n",
    "number = [str(item).zfill(1) for item in number]\n",
    "#number"
   ]
  },
  {
   "cell_type": "code",
   "execution_count": null,
   "id": "c11ac901-f0da-4952-80ea-0a1823b877a2",
   "metadata": {
    "tags": []
   },
   "outputs": [],
   "source": [
    "# date_range = [\n",
    "# '2015-09-30','2015-12-31',\n",
    "# '2016-03-31','2016-06-30','2016-09-30','2016-12-31',\n",
    "# '2017-03-31','2017-06-30','2017-09-30','2017-12-31',\n",
    "# '2018-03-31','2018-06-30','2018-09-30','2018-12-31',\n",
    "# '2019-03-31','2019-06-30','2019-09-30','2019-12-31',\n",
    "# '2020-03-31','2020-06-30','2020-09-30','2020-12-31',\n",
    "# '2021-03-31','2021-06-30']\n",
    "\n",
    "# Was not needed for UMB\n",
    "date_range = ['2023-02-14']"
   ]
  },
  {
   "cell_type": "markdown",
   "id": "4fdb8273-e95a-46ad-ac6b-a845e710141f",
   "metadata": {},
   "source": [
    "### Append Data"
   ]
  },
  {
   "cell_type": "code",
   "execution_count": null,
   "id": "7c35bcfe-5a9f-42b1-a07c-97b1908bdd4a",
   "metadata": {
    "tags": []
   },
   "outputs": [],
   "source": [
    "df_append_test = pd.DataFrame([])\n",
    "\n",
    "for date in date_range:\n",
    "    for i in map(str, number):\n",
    "        # df = pd.read_parquet('s3://lm-uscm-ds-ba-personalspace/n0361860/MFR2021/ready4mod/' + date + '/' + date + '_part-' + i + '.parquet'  , engine = 'pyarrow')\n",
    "        df = pd.read_parquet('s3://cortex-pdm-propertyspecialty/Auto/2022q3/UmbAttr_PostTU_LVL_Part/2023-02-14_chunk_' + i + '.parquet'  , engine = 'pyarrow')\n",
    "        df_select = df[[\n",
    "                    'Policy_Digit',\n",
    "                    'Policy_Digit_100',\n",
    "                    'Year',\n",
    "                    'QuarterMonth_DDM1',\n",
    "                    'RatingState',\n",
    "                    'TenureMonthGroup_Mod2',\n",
    "                    'Policy_Term_Mod2',\n",
    "                    'BI_Limit',\n",
    "                    'NB_Program',\n",
    "                    'LCPBI_v1',\n",
    "                    'Account_v1',\n",
    "                    'Residence_Type_Mod2',\n",
    "                    'Advance_Quote_Days_DDM3',\n",
    "                    'Auto_Options',\n",
    "                    'DaysWithoutInsurance_Mod2',\n",
    "                    'TenurewithPreviousInsurer_Group_DDM1',\n",
    "                    'Reinstate_Prior_5Years',\n",
    "                    'PIBS_URE_Avg_V2',\n",
    "                    'Youthful_Driver_Indicator',\n",
    "                    'NumberMarried',\n",
    "                    'NumberVehiclesDrivers_Mod2',\n",
    "                    'Education_Mod2',\n",
    "                    'Occ_Category_Level_Grouped',\n",
    "                    'Age_delta_to_maxNI_IS',\n",
    "                    'DriverAge_v1',\n",
    "                    'Years_Licensed_v1',\n",
    "                    'MaximumAge_v1',\n",
    "                    'MinimumAge_v1',\n",
    "                    'Min_Years_Licensed_v1',\n",
    "                    'Good_Payer_Discount',\n",
    "                    'GoodStudent',\n",
    "                    'DistantStudent',\n",
    "                    'MaritalStatus',\n",
    "                    'MaritalGenderGroup',\n",
    "                    'MatureDriverTraining',\n",
    "                    'Not_Rated_Driver_Count_Mod2',\n",
    "                    'Driver_Special_Risk_Class',\n",
    "                    'Broad_Occurrence_5yr_Pol',\n",
    "                    'Ratable_Occurrence_3yr_Drv_All',\n",
    "                    'AFA_0_750_5Yr_Pol',\n",
    "                    'AFA_Above750_3Yr_Drv',\n",
    "                    'AFA_Above750_5Yr_Pol',\n",
    "                    'NAF_0_750_5Yr_Pol',\n",
    "                    'NAF_Above750_5Yr_Pol',\n",
    "                    'Comp_GL_NG_TOW_0_LT100_5Yr_Pol',\n",
    "                    'Comp_GL_NG_TOW_100_1000_5Yr_Pol',\n",
    "                    'Comp_GL_NG_TOW_Above1000_5Yr_Pol',\n",
    "                    'Level_2_5yr_Pol_All',\n",
    "                    'Level_3_5yr_Pol_All',\n",
    "                    'Level_4_5yr_Pol_All',\n",
    "                    'Level_5_5yr_Pol_All',\n",
    "                    'MedPIP_0_above_5yr_Pol_v1',\n",
    "                    'UM_0_Above_5yr_Pol_v1',\n",
    "                    'VehicleAge_Mod2',\n",
    "                    'MinVehicleAge',\n",
    "                    'Current_RT_status',\n",
    "                    'Estimated_Annual_Mileage',\n",
    "                    'Vehicle_Level_Full_Coverage',\n",
    "                    'MakeName_DDM3',\n",
    "                    'VehicleClassName_DDM4',\n",
    "                    'VehicleSizeName_DDM4',\n",
    "                    'Wheelbase_DDM4',\n",
    "                    'Length_DDM4',\n",
    "                    'Height_DDM4',\n",
    "                    'Adaptive_Cruise_v1',\n",
    "                    'Airbags_v1',\n",
    "                    'Antilock_Brakes_v1',\n",
    "                    'Blindspot_v1',\n",
    "                    'Collision_Avoidance_v1',\n",
    "                    'Lane_Departure_v1',\n",
    "                    'Lights_v1',\n",
    "                    'Parking_Camera_v1',\n",
    "                    'Parking_Sensor_v1',\n",
    "                    'ConvertibleIndicator_DDM3',\n",
    "                    'EnginePower_DDM4',\n",
    "                    'PriceWeightRatio_v1',\n",
    "                    'HPWeightRatio_DDM4',\n",
    "                    'MaxHorse_DDM4',\n",
    "                    'MaxBasePrice',\n",
    "                    'MinBasePrice',\n",
    "                    'CF_ANN_MILES_v1',\n",
    "                    'CF_ODO_Rd_Last_Yr',\n",
    "                    'CF_Own_Years',\n",
    "                    'CF_Top_Level_Flags',\n",
    "                    'CF_Years_Since_ODO_DT',\n",
    "                    'NormA_VehicleDensity_DDM3_S5',\n",
    "                    'NormA_VehicleDensity_DDM3_S10',\n",
    "                    'Norm16_Emp_WalkedtoWork_DDM3_S5',\n",
    "                    'Avg_TravelTime_incl_workathome_60Plusbreakout_DDM3_S5',\n",
    "                    'AltDelta_10_Miles_DDM3_S5',\n",
    "                    'Average_Annual_Snowfall_DDM3_S5',\n",
    "                    'Norm18_VehiclesPerPerson_DDM3_S5',\n",
    "                    'Freq_Index_BI_wControl',\n",
    "                    'Ratable_Occurrence_5yr_Drv_All_AMR3',\n",
    "                    'Majors_3yr_Drv_All',\n",
    "                    'NumberVehiclesDrivers_Mod2_Abbr',\n",
    "                    # 'Sev_Index_BI_wControl',\n",
    "                    'PPV_Ind',\n",
    "                    'Lockdown_Ind',\n",
    "                    'UMB_ClaimCnt',\n",
    "                    'UMB_Loss',\n",
    "                    'UMB_EP',\n",
    "                    'UMB_ECM'\n",
    "                       ]]\n",
    "        #filter down: (df_select['Policy_Digit_100'].isin([2,3])) (df_select['Policy_Digit'].isin([2,3,4,5,6,7,8,9]))\n",
    "        df_select = df_select[(df_select.BI_Limit >= 36) & (df_select.BI_Limit <= 44)\n",
    "                             & (df_select.QuarterMonth_DDM1 >= 4) & (df_select.QuarterMonth_DDM1 <= 23) & (df_select.PPV_Ind == 2)\n",
    "                             & (df_select.Lockdown_Ind != 3) & (df_select.RatingState != 21) & (df_select.RatingState != 22) & (df_select.RatingState != 33)\n",
    "                             & (df_select.UMB_ECM > 0)]\n",
    "        df_append_test = pd.concat([df_append_test,df_select])"
   ]
  },
  {
   "cell_type": "code",
   "execution_count": null,
   "id": "d4bd010c-72dc-4fa2-afbf-c5e6f276afa6",
   "metadata": {
    "tags": []
   },
   "outputs": [],
   "source": [
    "df_append_test2 = df_append_test\n",
    "\n",
    "# df_append_test2['ID']=range(1, N + 1 ,1)\n",
    "df_append_test2['constantval']= 1\n",
    "df_append_test2['BI_Ind'] = np.where(df_append_test2['UMB_ECM']> 0 , 1, 0)\n"
   ]
  },
  {
   "cell_type": "code",
   "execution_count": 15,
   "id": "f6b25a42-c704-43dc-aabe-e43d7ac27419",
   "metadata": {
    "tags": []
   },
   "outputs": [
    {
     "data": {
      "text/html": [
       "<div>\n",
       "<style scoped>\n",
       "    .dataframe tbody tr th:only-of-type {\n",
       "        vertical-align: middle;\n",
       "    }\n",
       "\n",
       "    .dataframe tbody tr th {\n",
       "        vertical-align: top;\n",
       "    }\n",
       "\n",
       "    .dataframe thead th {\n",
       "        text-align: right;\n",
       "    }\n",
       "</style>\n",
       "<table border=\"1\" class=\"dataframe\">\n",
       "  <thead>\n",
       "    <tr style=\"text-align: right;\">\n",
       "      <th></th>\n",
       "      <th>Policy_Digit</th>\n",
       "      <th>Policy_Digit_100</th>\n",
       "      <th>Year</th>\n",
       "      <th>QuarterMonth_DDM1</th>\n",
       "      <th>RatingState</th>\n",
       "      <th>TenureMonthGroup_Mod2</th>\n",
       "      <th>Policy_Term_Mod2</th>\n",
       "      <th>BI_Limit</th>\n",
       "      <th>NB_Program</th>\n",
       "      <th>LCPBI_v1</th>\n",
       "      <th>...</th>\n",
       "      <th>Majors_3yr_Drv_All</th>\n",
       "      <th>NumberVehiclesDrivers_Mod2_Abbr</th>\n",
       "      <th>PPV_Ind</th>\n",
       "      <th>Lockdown_Ind</th>\n",
       "      <th>UMB_ClaimCnt</th>\n",
       "      <th>UMB_Loss</th>\n",
       "      <th>UMB_EP</th>\n",
       "      <th>UMB_ECM</th>\n",
       "      <th>constantval</th>\n",
       "      <th>BI_Ind</th>\n",
       "    </tr>\n",
       "  </thead>\n",
       "  <tbody>\n",
       "    <tr>\n",
       "      <th>0</th>\n",
       "      <td>7</td>\n",
       "      <td>37</td>\n",
       "      <td>8</td>\n",
       "      <td>6</td>\n",
       "      <td>17</td>\n",
       "      <td>8</td>\n",
       "      <td>3</td>\n",
       "      <td>38</td>\n",
       "      <td>7</td>\n",
       "      <td>13</td>\n",
       "      <td>...</td>\n",
       "      <td>2</td>\n",
       "      <td>19</td>\n",
       "      <td>2</td>\n",
       "      <td>4</td>\n",
       "      <td>0.0</td>\n",
       "      <td>0.0</td>\n",
       "      <td>0.0</td>\n",
       "      <td>0.092742</td>\n",
       "      <td>1</td>\n",
       "      <td>1</td>\n",
       "    </tr>\n",
       "    <tr>\n",
       "      <th>1</th>\n",
       "      <td>7</td>\n",
       "      <td>37</td>\n",
       "      <td>8</td>\n",
       "      <td>6</td>\n",
       "      <td>17</td>\n",
       "      <td>8</td>\n",
       "      <td>3</td>\n",
       "      <td>38</td>\n",
       "      <td>7</td>\n",
       "      <td>13</td>\n",
       "      <td>...</td>\n",
       "      <td>2</td>\n",
       "      <td>19</td>\n",
       "      <td>2</td>\n",
       "      <td>4</td>\n",
       "      <td>0.0</td>\n",
       "      <td>0.0</td>\n",
       "      <td>0.0</td>\n",
       "      <td>0.092742</td>\n",
       "      <td>1</td>\n",
       "      <td>1</td>\n",
       "    </tr>\n",
       "    <tr>\n",
       "      <th>2</th>\n",
       "      <td>7</td>\n",
       "      <td>37</td>\n",
       "      <td>8</td>\n",
       "      <td>6</td>\n",
       "      <td>17</td>\n",
       "      <td>8</td>\n",
       "      <td>3</td>\n",
       "      <td>38</td>\n",
       "      <td>7</td>\n",
       "      <td>13</td>\n",
       "      <td>...</td>\n",
       "      <td>2</td>\n",
       "      <td>19</td>\n",
       "      <td>2</td>\n",
       "      <td>4</td>\n",
       "      <td>0.0</td>\n",
       "      <td>0.0</td>\n",
       "      <td>0.0</td>\n",
       "      <td>0.092742</td>\n",
       "      <td>1</td>\n",
       "      <td>1</td>\n",
       "    </tr>\n",
       "    <tr>\n",
       "      <th>3</th>\n",
       "      <td>7</td>\n",
       "      <td>37</td>\n",
       "      <td>8</td>\n",
       "      <td>6</td>\n",
       "      <td>17</td>\n",
       "      <td>8</td>\n",
       "      <td>3</td>\n",
       "      <td>38</td>\n",
       "      <td>7</td>\n",
       "      <td>13</td>\n",
       "      <td>...</td>\n",
       "      <td>2</td>\n",
       "      <td>19</td>\n",
       "      <td>2</td>\n",
       "      <td>4</td>\n",
       "      <td>0.0</td>\n",
       "      <td>0.0</td>\n",
       "      <td>0.0</td>\n",
       "      <td>0.092742</td>\n",
       "      <td>1</td>\n",
       "      <td>1</td>\n",
       "    </tr>\n",
       "    <tr>\n",
       "      <th>4</th>\n",
       "      <td>7</td>\n",
       "      <td>37</td>\n",
       "      <td>8</td>\n",
       "      <td>6</td>\n",
       "      <td>17</td>\n",
       "      <td>8</td>\n",
       "      <td>3</td>\n",
       "      <td>38</td>\n",
       "      <td>7</td>\n",
       "      <td>13</td>\n",
       "      <td>...</td>\n",
       "      <td>2</td>\n",
       "      <td>19</td>\n",
       "      <td>2</td>\n",
       "      <td>4</td>\n",
       "      <td>0.0</td>\n",
       "      <td>0.0</td>\n",
       "      <td>0.0</td>\n",
       "      <td>0.092742</td>\n",
       "      <td>1</td>\n",
       "      <td>1</td>\n",
       "    </tr>\n",
       "  </tbody>\n",
       "</table>\n",
       "<p>5 rows × 104 columns</p>\n",
       "</div>"
      ],
      "text/plain": [
       "   Policy_Digit  Policy_Digit_100  Year  QuarterMonth_DDM1  RatingState  \\\n",
       "0             7                37     8                  6           17   \n",
       "1             7                37     8                  6           17   \n",
       "2             7                37     8                  6           17   \n",
       "3             7                37     8                  6           17   \n",
       "4             7                37     8                  6           17   \n",
       "\n",
       "   TenureMonthGroup_Mod2  Policy_Term_Mod2  BI_Limit  NB_Program  LCPBI_v1  \\\n",
       "0                      8                 3        38           7        13   \n",
       "1                      8                 3        38           7        13   \n",
       "2                      8                 3        38           7        13   \n",
       "3                      8                 3        38           7        13   \n",
       "4                      8                 3        38           7        13   \n",
       "\n",
       "   ...  Majors_3yr_Drv_All  NumberVehiclesDrivers_Mod2_Abbr  PPV_Ind  \\\n",
       "0  ...                   2                               19        2   \n",
       "1  ...                   2                               19        2   \n",
       "2  ...                   2                               19        2   \n",
       "3  ...                   2                               19        2   \n",
       "4  ...                   2                               19        2   \n",
       "\n",
       "   Lockdown_Ind  UMB_ClaimCnt  UMB_Loss  UMB_EP   UMB_ECM  constantval  BI_Ind  \n",
       "0             4           0.0       0.0     0.0  0.092742            1       1  \n",
       "1             4           0.0       0.0     0.0  0.092742            1       1  \n",
       "2             4           0.0       0.0     0.0  0.092742            1       1  \n",
       "3             4           0.0       0.0     0.0  0.092742            1       1  \n",
       "4             4           0.0       0.0     0.0  0.092742            1       1  \n",
       "\n",
       "[5 rows x 104 columns]"
      ]
     },
     "execution_count": 15,
     "metadata": {},
     "output_type": "execute_result"
    }
   ],
   "source": [
    "df_append = pd.read_csv('UMB_Tar_holdout_data_pooldigit_all.csv')\n",
    "df_append.head()"
   ]
  },
  {
   "cell_type": "code",
   "execution_count": 16,
   "id": "718559c4-1273-401e-8393-0f7147ea97cf",
   "metadata": {
    "tags": []
   },
   "outputs": [
    {
     "name": "stdout",
     "output_type": "stream",
     "text": [
      "[2, 3, 4, 5, 6, 7, 8, 9, 10, 11]\n"
     ]
    }
   ],
   "source": [
    "# unique Pol Digits\n",
    "pol_digit = df_append['Policy_Digit'].unique()\n",
    "print(sorted(pol_digit))"
   ]
  },
  {
   "cell_type": "code",
   "execution_count": 20,
   "id": "4d27cc04-765e-427a-998f-d32061a4407b",
   "metadata": {
    "tags": []
   },
   "outputs": [
    {
     "data": {
      "text/html": [
       "<div>\n",
       "<style scoped>\n",
       "    .dataframe tbody tr th:only-of-type {\n",
       "        vertical-align: middle;\n",
       "    }\n",
       "\n",
       "    .dataframe tbody tr th {\n",
       "        vertical-align: top;\n",
       "    }\n",
       "\n",
       "    .dataframe thead th {\n",
       "        text-align: right;\n",
       "    }\n",
       "</style>\n",
       "<table border=\"1\" class=\"dataframe\">\n",
       "  <thead>\n",
       "    <tr style=\"text-align: right;\">\n",
       "      <th></th>\n",
       "      <th>Policy_Digit</th>\n",
       "      <th>Policy_Digit_100</th>\n",
       "      <th>Year</th>\n",
       "      <th>QuarterMonth_DDM1</th>\n",
       "      <th>RatingState</th>\n",
       "      <th>TenureMonthGroup_Mod2</th>\n",
       "      <th>Policy_Term_Mod2</th>\n",
       "      <th>BI_Limit</th>\n",
       "      <th>NB_Program</th>\n",
       "      <th>LCPBI_v1</th>\n",
       "      <th>...</th>\n",
       "      <th>Majors_3yr_Drv_All</th>\n",
       "      <th>NumberVehiclesDrivers_Mod2_Abbr</th>\n",
       "      <th>PPV_Ind</th>\n",
       "      <th>Lockdown_Ind</th>\n",
       "      <th>UMB_ClaimCnt</th>\n",
       "      <th>UMB_Loss</th>\n",
       "      <th>UMB_EP</th>\n",
       "      <th>UMB_ECM</th>\n",
       "      <th>constantval</th>\n",
       "      <th>BI_Ind</th>\n",
       "    </tr>\n",
       "  </thead>\n",
       "  <tbody>\n",
       "    <tr>\n",
       "      <th>46</th>\n",
       "      <td>3</td>\n",
       "      <td>33</td>\n",
       "      <td>4</td>\n",
       "      <td>20</td>\n",
       "      <td>35</td>\n",
       "      <td>2</td>\n",
       "      <td>3</td>\n",
       "      <td>36</td>\n",
       "      <td>7</td>\n",
       "      <td>12</td>\n",
       "      <td>...</td>\n",
       "      <td>2</td>\n",
       "      <td>9</td>\n",
       "      <td>2</td>\n",
       "      <td>2</td>\n",
       "      <td>0.0</td>\n",
       "      <td>0.0</td>\n",
       "      <td>19.9075</td>\n",
       "      <td>0.750000</td>\n",
       "      <td>1</td>\n",
       "      <td>1</td>\n",
       "    </tr>\n",
       "    <tr>\n",
       "      <th>47</th>\n",
       "      <td>3</td>\n",
       "      <td>33</td>\n",
       "      <td>4</td>\n",
       "      <td>20</td>\n",
       "      <td>35</td>\n",
       "      <td>2</td>\n",
       "      <td>3</td>\n",
       "      <td>36</td>\n",
       "      <td>7</td>\n",
       "      <td>12</td>\n",
       "      <td>...</td>\n",
       "      <td>2</td>\n",
       "      <td>9</td>\n",
       "      <td>2</td>\n",
       "      <td>2</td>\n",
       "      <td>0.0</td>\n",
       "      <td>0.0</td>\n",
       "      <td>20.1300</td>\n",
       "      <td>0.750000</td>\n",
       "      <td>1</td>\n",
       "      <td>1</td>\n",
       "    </tr>\n",
       "    <tr>\n",
       "      <th>48</th>\n",
       "      <td>3</td>\n",
       "      <td>33</td>\n",
       "      <td>4</td>\n",
       "      <td>20</td>\n",
       "      <td>35</td>\n",
       "      <td>2</td>\n",
       "      <td>3</td>\n",
       "      <td>36</td>\n",
       "      <td>7</td>\n",
       "      <td>12</td>\n",
       "      <td>...</td>\n",
       "      <td>2</td>\n",
       "      <td>9</td>\n",
       "      <td>2</td>\n",
       "      <td>2</td>\n",
       "      <td>0.0</td>\n",
       "      <td>0.0</td>\n",
       "      <td>3.7600</td>\n",
       "      <td>0.129032</td>\n",
       "      <td>1</td>\n",
       "      <td>1</td>\n",
       "    </tr>\n",
       "    <tr>\n",
       "      <th>49</th>\n",
       "      <td>3</td>\n",
       "      <td>33</td>\n",
       "      <td>4</td>\n",
       "      <td>20</td>\n",
       "      <td>35</td>\n",
       "      <td>2</td>\n",
       "      <td>3</td>\n",
       "      <td>36</td>\n",
       "      <td>7</td>\n",
       "      <td>12</td>\n",
       "      <td>...</td>\n",
       "      <td>2</td>\n",
       "      <td>9</td>\n",
       "      <td>2</td>\n",
       "      <td>2</td>\n",
       "      <td>0.0</td>\n",
       "      <td>0.0</td>\n",
       "      <td>5.3075</td>\n",
       "      <td>0.193548</td>\n",
       "      <td>1</td>\n",
       "      <td>1</td>\n",
       "    </tr>\n",
       "    <tr>\n",
       "      <th>50</th>\n",
       "      <td>3</td>\n",
       "      <td>33</td>\n",
       "      <td>4</td>\n",
       "      <td>20</td>\n",
       "      <td>35</td>\n",
       "      <td>2</td>\n",
       "      <td>3</td>\n",
       "      <td>36</td>\n",
       "      <td>7</td>\n",
       "      <td>12</td>\n",
       "      <td>...</td>\n",
       "      <td>2</td>\n",
       "      <td>9</td>\n",
       "      <td>2</td>\n",
       "      <td>2</td>\n",
       "      <td>0.0</td>\n",
       "      <td>0.0</td>\n",
       "      <td>19.9075</td>\n",
       "      <td>0.750000</td>\n",
       "      <td>1</td>\n",
       "      <td>1</td>\n",
       "    </tr>\n",
       "  </tbody>\n",
       "</table>\n",
       "<p>5 rows × 104 columns</p>\n",
       "</div>"
      ],
      "text/plain": [
       "    Policy_Digit  Policy_Digit_100  Year  QuarterMonth_DDM1  RatingState  \\\n",
       "46             3                33     4                 20           35   \n",
       "47             3                33     4                 20           35   \n",
       "48             3                33     4                 20           35   \n",
       "49             3                33     4                 20           35   \n",
       "50             3                33     4                 20           35   \n",
       "\n",
       "    TenureMonthGroup_Mod2  Policy_Term_Mod2  BI_Limit  NB_Program  LCPBI_v1  \\\n",
       "46                      2                 3        36           7        12   \n",
       "47                      2                 3        36           7        12   \n",
       "48                      2                 3        36           7        12   \n",
       "49                      2                 3        36           7        12   \n",
       "50                      2                 3        36           7        12   \n",
       "\n",
       "    ...  Majors_3yr_Drv_All  NumberVehiclesDrivers_Mod2_Abbr  PPV_Ind  \\\n",
       "46  ...                   2                                9        2   \n",
       "47  ...                   2                                9        2   \n",
       "48  ...                   2                                9        2   \n",
       "49  ...                   2                                9        2   \n",
       "50  ...                   2                                9        2   \n",
       "\n",
       "    Lockdown_Ind  UMB_ClaimCnt  UMB_Loss   UMB_EP   UMB_ECM  constantval  \\\n",
       "46             2           0.0       0.0  19.9075  0.750000            1   \n",
       "47             2           0.0       0.0  20.1300  0.750000            1   \n",
       "48             2           0.0       0.0   3.7600  0.129032            1   \n",
       "49             2           0.0       0.0   5.3075  0.193548            1   \n",
       "50             2           0.0       0.0  19.9075  0.750000            1   \n",
       "\n",
       "    BI_Ind  \n",
       "46       1  \n",
       "47       1  \n",
       "48       1  \n",
       "49       1  \n",
       "50       1  \n",
       "\n",
       "[5 rows x 104 columns]"
      ]
     },
     "execution_count": 20,
     "metadata": {},
     "output_type": "execute_result"
    }
   ],
   "source": [
    "df_append_test_ho = df_append.loc[df_append['Policy_Digit'].isin([2,3])]\n",
    "df_append_test_ho.to_csv ('UMB_Tar_holdout_data_pooldigit_23.csv', index = False, header=True)\n",
    "df_append_test_ho.head()"
   ]
  },
  {
   "cell_type": "code",
   "execution_count": null,
   "id": "53f9e8c3-e309-4195-b602-a7784d169e0f",
   "metadata": {
    "tags": []
   },
   "outputs": [],
   "source": [
    "def upload_df_s3(df, path):\n",
    "    \"\"\"\n",
    "    This function uploads files directly from Python to S3 before checking duplicates\n",
    "    Input\n",
    "    df - pandas dataframe\n",
    "    path - S3 file path (s3://<bucket-name>/<file-name>.csv)\n",
    "    \"\"\"\n",
    "    import boto3\n",
    "    s3 = boto3.resource('s3')\n",
    "    \n",
    "    bucket_name = path.split('://')[1].split('/')[0]\n",
    "    file_name = path.replace('s3://'+bucket_name+'/', '')\n",
    "    \n",
    "    my_bucket = s3.Bucket(bucket_name)\n",
    "    \n",
    "    flag = 0\n",
    "    print('Checking if file with same name is already present in S3.')\n",
    "    for file in my_bucket.objects.all():\n",
    "        if file_name in file.key:\n",
    "            print('File name \\\"{}\\\" already present. Please try with a different name'.format(file_name))\n",
    "            flag = 1\n",
    "    if flag == 0:\n",
    "        print('Uploading the file to S3 at - {}'.format(path))\n",
    "        df.to_csv(path, index=0)"
   ]
  },
  {
   "cell_type": "code",
   "execution_count": null,
   "id": "96bbc40c-684a-4172-a9b4-2cd7760cb925",
   "metadata": {
    "tags": []
   },
   "outputs": [],
   "source": [
    "%%time\n",
    "\n",
    "# move entire data from s3 (may take a few minutes)\n",
    "upload_df_s3(df = df_append_test2, path = 's3://cortex-pdm-propertyspecialty/Auto/2022q3//Lift_Chart_data/UMB_Tar_holdout_data_pooldigit_00_79.csv')"
   ]
  },
  {
   "cell_type": "markdown",
   "id": "e95db094-9219-4359-acac-26b4b642ccce",
   "metadata": {},
   "source": [
    "### Scoring"
   ]
  },
  {
   "cell_type": "code",
   "execution_count": null,
   "id": "12ff24ba-e01a-48a2-857b-29c6224a74d8",
   "metadata": {
    "tags": []
   },
   "outputs": [],
   "source": [
    "# install bidipy and Scorepyon once in Jupyter terminal.\n",
    "# !pip install pandas\n",
    "# !pip install numpy\n",
    "# !pip install Path\n",
    "# !pip install matplotlib\n",
    "# !pip install bidipy\n",
    "# !pip install scorepyon"
   ]
  },
  {
   "cell_type": "code",
   "execution_count": 2,
   "id": "db627d70-3db3-4b7b-8dd1-69187b1e1197",
   "metadata": {
    "tags": []
   },
   "outputs": [],
   "source": [
    "#import libraries we will need\n",
    "import pathlib\n",
    "import scorepyon.scorer as spy\n",
    "import pandas as pd\n",
    "import numpy as np\n",
    "from pathlib import Path\n",
    "import matplotlib.pyplot as plt\n",
    "%matplotlib inline"
   ]
  },
  {
   "cell_type": "code",
   "execution_count": 18,
   "id": "1956498d-8912-43b8-b5d5-3fb6d2253bfd",
   "metadata": {
    "tags": []
   },
   "outputs": [
    {
     "name": "stdout",
     "output_type": "stream",
     "text": [
      "/mnt/N1512212\n"
     ]
    }
   ],
   "source": [
    "print(Path.cwd())"
   ]
  },
  {
   "cell_type": "code",
   "execution_count": 87,
   "id": "66db5754-e282-4792-be46-c9ddf240e23d",
   "metadata": {
    "tags": []
   },
   "outputs": [],
   "source": [
    "# Code adjusted for UMB\n",
    "# No need for Freq/ Sev - final LC selected model - all 3 models combined\n",
    "\n",
    "def score_state(file_path, state = 'All'):\n",
    "    # define filepaths\n",
    "    work_path = Path.cwd()\n",
    "    # export_path = work_path/'model_export'\n",
    "    export_path_LC = work_path/'model_export_Tar'\n",
    "    # export_path_LC_Selected = work_path/'model_export_LC_selected'\n",
    "    \n",
    "    if(state == 'All'):\n",
    "        # set file_path to CW data\n",
    "        path = file_path + '.csv'\n",
    "    else:\n",
    "        # set file_path to state data\n",
    "        path = file_path + '_' + state + '.csv'\n",
    "    \n",
    "    # calculate scores - ??needed for correct Actual LC??\n",
    "    #scores = spy.score_file(file = path, model_exports = export_path, link_fn = 'log', write_out = False)\n",
    "    \n",
    "    # calculate component scores\n",
    "    scores_lc = spy.score_file(file = path, model_exports = export_path_LC, link_fn = 'log', write_out = False)\n",
    "    # scores_lc_selected = spy.score_file(file = path, model_exports = export_path_LC_Selected, link_fn = 'log', write_out = False)\n",
    "    \n",
    "    # calculate LC from loss cost scores and save in dataframe   \n",
    "    scores_LossCost = {'UMB_Tar_Loss':scores_lc[\"LC_Final_Lift_30%_5\"]}\n",
    "    \n",
    "    scores_LC_Final = pd.DataFrame(data = scores_LossCost)\n",
    "    \n",
    "    # scores = pd.concat([scores_lc, scores_LC_Final], axis = 1)\n",
    "\n",
    "    \n",
    "#     scores_LC_Selected_Final = pd.DataFrame(data = scores_LossCost_Selected)\n",
    "    \n",
    "    scores = pd.concat([scores_lc, scores_LC_Final], axis = 1)\n",
    "    # Note: make sure we do not have duplicate column names else it might result in error at later stage.\n",
    "    \n",
    "    # free up space\n",
    "    del scores_LC_Final\n",
    "    \n",
    "    # free up space\n",
    "    # del scores_LC_Selected_Final\n",
    "        \n",
    "    return scores"
   ]
  },
  {
   "cell_type": "code",
   "execution_count": 22,
   "id": "01c4ef76-435d-4e62-a315-3f2fbb81878e",
   "metadata": {
    "tags": []
   },
   "outputs": [],
   "source": [
    "# run each time program is opened\n",
    "\n",
    "def lift_chart(data, pred, obs, weight, bins = 10):\n",
    "    # This function creates the lift chart from our modeling dataset using the traditional property methodolgy \n",
    "    \n",
    "    df = pd.DataFrame({'p': data[pred], 'a': data[obs], 'w': data[weight]})\n",
    "    df[\"pw\"] = df.p * df.w\n",
    "    df[\"aw\"] = df.a * 1\n",
    "    \n",
    "    order = df.w[df.p.argsort()].cumsum()\n",
    "    percentile = order / order.iloc[-1]\n",
    "    percentile = percentile.dropna()\n",
    "    df['bin'] = pd.cut(x = percentile, bins = bins, labels = False, duplicates = 'drop').sort_index()\n",
    "\n",
    "    g = df.groupby('bin')\n",
    "    g_bin = g[['pw', 'aw', 'w']].sum().reset_index()\n",
    "    g_bin['records'] = g.size()\n",
    "\n",
    "    g_bin['pred'] = (g_bin.pw / g_bin.w) / (g_bin.pw.sum() / g_bin.w.sum())\n",
    "    g_bin['act'] = (g_bin.aw / g_bin.w) / (g_bin.aw.sum() / g_bin.w.sum())\n",
    "\n",
    "    g_bin['bin_pct'] = g_bin.w / g_bin.w.sum()\n",
    "\n",
    "    g_bin = g_bin[['pred', 'act', 'bin_pct', 'w']]\n",
    "    \n",
    "\n",
    "    pd.set_option('display.max_rows', None)\n",
    "    results = pd.DataFrame({'pred': g_bin['pred'], 'act': g_bin['act']})\n",
    "    \n",
    "    return results"
   ]
  },
  {
   "cell_type": "code",
   "execution_count": 60,
   "id": "f17d5a66-1e85-439e-902d-25ab8c2f4364",
   "metadata": {
    "tags": []
   },
   "outputs": [],
   "source": [
    "# run each time program is opened\n",
    "\n",
    "def lift_chart_norm(data, pred, obs, weight, state = 'RatingState', year = 'Year', bins = 20):\n",
    "    # This function creates the lift chart using auto's method of normaling by state and year\n",
    "    \n",
    "    df = pd.DataFrame({'p': data[pred], 'a': data[obs], 'w': data[weight], 'state': data[state], 'year': data[year]})\n",
    "    df[\"pw\"] = df.p * df.w\n",
    "    df[\"aw\"] = df.a * 1\n",
    "    \n",
    "    df['norm'] = df['state'].map(str) + '_' + df['year'].map(str)\n",
    "\n",
    "    df['muObs'] = df['aw'].groupby(df['norm']).transform('sum') / df['w'].groupby(df['norm']).transform('sum')\n",
    "    df['muPred'] = df['pw'].groupby(df['norm']).transform('sum') / df['w'].groupby(df['norm']).transform('sum')\n",
    "\n",
    "    df['rpw'] = df['pw'] * (df['muObs'] / df['muPred'])\n",
    "\n",
    "    df = df.reset_index(drop = True)\n",
    "    \n",
    "    order = df.w[df.p.argsort()].cumsum()\n",
    "    percentile = order / order.iloc[-1]\n",
    "    percentile = percentile.dropna()\n",
    "    df['bin'] = pd.cut(x = percentile, bins = bins, labels = False, duplicates = 'drop').sort_index()\n",
    "\n",
    "    g = df.groupby('bin')\n",
    "    g_bin = g[['rpw', 'aw', 'w']].sum().reset_index()\n",
    "    g_bin['records'] = g.size()\n",
    "\n",
    "    g_bin['pred'] = (g_bin.rpw / g_bin.w) / (g_bin.rpw.sum() / g_bin.w.sum())\n",
    "    g_bin['act'] = (g_bin.aw / g_bin.w) / (g_bin.aw.sum() / g_bin.w.sum())\n",
    "\n",
    "    g_bin['bin_pct'] = g_bin.w / g_bin.w.sum()\n",
    "\n",
    "    g_bin = g_bin[['pred', 'act', 'bin_pct', 'w']]\n",
    "\n",
    "    pd.set_option('display.max_rows', None)\n",
    "    results = pd.DataFrame({'pred': g_bin['pred'], 'act': g_bin['act'], 'Weight': g_bin['w'], 'bin_pct': g_bin['bin_pct']})\n",
    "    \n",
    "    \n",
    "    return results"
   ]
  },
  {
   "cell_type": "code",
   "execution_count": 61,
   "id": "1511afed-d79e-4363-ad85-b332c39607c6",
   "metadata": {
    "tags": []
   },
   "outputs": [],
   "source": [
    "# update next six lines\n",
    "# file path of main file, excluding .csv, peril_weight should also exclude .csv\n",
    "def component_lift(file_path, state = 'All', norm = 'Yes', bins = 20):\n",
    "\n",
    "    File_path = file_path\n",
    "    # Peril_weight = peril_weight\n",
    "    State = state\n",
    "    # Peril = peril\n",
    "    Norm = norm\n",
    "    Bins = bins\n",
    "\n",
    "    # data_state(state = State, file_path = File_path)\n",
    "    scores = score_state(state = State, file_path = File_path)\n",
    "    # LC_data = LC_offsets(scores = scores, state = State, peril_weight = Peril_weight, file_path = File_path)\n",
    "    # scores = peril_LC(LC_data = LC_data, scores = scores, peril = Peril, state = State)\n",
    "\n",
    "    if(norm == 'Yes'):\n",
    "        lift = lift_chart_norm(data = scores, pred = 'UMB_Tar_Loss', obs = 'UMB_Loss', weight = 'UMB_ECM', bins = Bins)\n",
    "\n",
    "    else:\n",
    "        lift = lift_chart(data = scores, pred = 'UMB_Tar_Loss', obs = 'UMB_Loss', weight = 'UMB_ECM', bins = Bins)\n",
    "\n",
    "    return lift"
   ]
  },
  {
   "cell_type": "code",
   "execution_count": 88,
   "id": "bc7640fc-6a09-4c52-9182-942a4fbd7aa2",
   "metadata": {
    "tags": []
   },
   "outputs": [
    {
     "data": {
      "text/html": [
       "<div>\n",
       "<style scoped>\n",
       "    .dataframe tbody tr th:only-of-type {\n",
       "        vertical-align: middle;\n",
       "    }\n",
       "\n",
       "    .dataframe tbody tr th {\n",
       "        vertical-align: top;\n",
       "    }\n",
       "\n",
       "    .dataframe thead th {\n",
       "        text-align: right;\n",
       "    }\n",
       "</style>\n",
       "<table border=\"1\" class=\"dataframe\">\n",
       "  <thead>\n",
       "    <tr style=\"text-align: right;\">\n",
       "      <th></th>\n",
       "      <th>pred</th>\n",
       "      <th>act</th>\n",
       "      <th>Weight</th>\n",
       "      <th>bin_pct</th>\n",
       "    </tr>\n",
       "  </thead>\n",
       "  <tbody>\n",
       "    <tr>\n",
       "      <th>0</th>\n",
       "      <td>0.293889</td>\n",
       "      <td>0.515568</td>\n",
       "      <td>628328.800138</td>\n",
       "      <td>0.2</td>\n",
       "    </tr>\n",
       "    <tr>\n",
       "      <th>1</th>\n",
       "      <td>0.454885</td>\n",
       "      <td>0.668910</td>\n",
       "      <td>628328.935820</td>\n",
       "      <td>0.2</td>\n",
       "    </tr>\n",
       "    <tr>\n",
       "      <th>2</th>\n",
       "      <td>0.679593</td>\n",
       "      <td>1.217381</td>\n",
       "      <td>628328.610138</td>\n",
       "      <td>0.2</td>\n",
       "    </tr>\n",
       "    <tr>\n",
       "      <th>3</th>\n",
       "      <td>1.062079</td>\n",
       "      <td>0.571033</td>\n",
       "      <td>628328.064503</td>\n",
       "      <td>0.2</td>\n",
       "    </tr>\n",
       "    <tr>\n",
       "      <th>4</th>\n",
       "      <td>2.509553</td>\n",
       "      <td>2.027108</td>\n",
       "      <td>628329.258106</td>\n",
       "      <td>0.2</td>\n",
       "    </tr>\n",
       "  </tbody>\n",
       "</table>\n",
       "</div>"
      ],
      "text/plain": [
       "       pred       act         Weight  bin_pct\n",
       "0  0.293889  0.515568  628328.800138      0.2\n",
       "1  0.454885  0.668910  628328.935820      0.2\n",
       "2  0.679593  1.217381  628328.610138      0.2\n",
       "3  1.062079  0.571033  628328.064503      0.2\n",
       "4  2.509553  2.027108  628329.258106      0.2"
      ]
     },
     "execution_count": 88,
     "metadata": {},
     "output_type": "execute_result"
    }
   ],
   "source": [
    "# Final output table\n",
    "# use the latest peril weights in the same format as attached\n",
    "component_lift(file_path = 'UMB_Tar_holdout_data_pooldigit_1011', state = 'All', bins =5)"
   ]
  },
  {
   "cell_type": "code",
   "execution_count": 89,
   "id": "64d82a07-b8c5-44f0-90d1-22974e990311",
   "metadata": {
    "tags": []
   },
   "outputs": [
    {
     "data": {
      "text/html": [
       "<div>\n",
       "<style scoped>\n",
       "    .dataframe tbody tr th:only-of-type {\n",
       "        vertical-align: middle;\n",
       "    }\n",
       "\n",
       "    .dataframe tbody tr th {\n",
       "        vertical-align: top;\n",
       "    }\n",
       "\n",
       "    .dataframe thead th {\n",
       "        text-align: right;\n",
       "    }\n",
       "</style>\n",
       "<table border=\"1\" class=\"dataframe\">\n",
       "  <thead>\n",
       "    <tr style=\"text-align: right;\">\n",
       "      <th></th>\n",
       "      <th>pred</th>\n",
       "      <th>act</th>\n",
       "      <th>Weight</th>\n",
       "      <th>bin_pct</th>\n",
       "    </tr>\n",
       "  </thead>\n",
       "  <tbody>\n",
       "    <tr>\n",
       "      <th>0</th>\n",
       "      <td>0.239041</td>\n",
       "      <td>0.573728</td>\n",
       "      <td>314164.969098</td>\n",
       "      <td>0.1</td>\n",
       "    </tr>\n",
       "    <tr>\n",
       "      <th>1</th>\n",
       "      <td>0.348738</td>\n",
       "      <td>0.457407</td>\n",
       "      <td>314163.831041</td>\n",
       "      <td>0.1</td>\n",
       "    </tr>\n",
       "    <tr>\n",
       "      <th>2</th>\n",
       "      <td>0.416024</td>\n",
       "      <td>0.537972</td>\n",
       "      <td>314164.716391</td>\n",
       "      <td>0.1</td>\n",
       "    </tr>\n",
       "    <tr>\n",
       "      <th>3</th>\n",
       "      <td>0.493747</td>\n",
       "      <td>0.799847</td>\n",
       "      <td>314164.219429</td>\n",
       "      <td>0.1</td>\n",
       "    </tr>\n",
       "    <tr>\n",
       "      <th>4</th>\n",
       "      <td>0.606842</td>\n",
       "      <td>1.336749</td>\n",
       "      <td>314163.741701</td>\n",
       "      <td>0.1</td>\n",
       "    </tr>\n",
       "    <tr>\n",
       "      <th>5</th>\n",
       "      <td>0.752343</td>\n",
       "      <td>1.098013</td>\n",
       "      <td>314164.868437</td>\n",
       "      <td>0.1</td>\n",
       "    </tr>\n",
       "    <tr>\n",
       "      <th>6</th>\n",
       "      <td>0.928232</td>\n",
       "      <td>0.597644</td>\n",
       "      <td>314164.129867</td>\n",
       "      <td>0.1</td>\n",
       "    </tr>\n",
       "    <tr>\n",
       "      <th>7</th>\n",
       "      <td>1.195926</td>\n",
       "      <td>0.544422</td>\n",
       "      <td>314163.934636</td>\n",
       "      <td>0.1</td>\n",
       "    </tr>\n",
       "    <tr>\n",
       "      <th>8</th>\n",
       "      <td>1.642860</td>\n",
       "      <td>1.179931</td>\n",
       "      <td>314164.791655</td>\n",
       "      <td>0.1</td>\n",
       "    </tr>\n",
       "    <tr>\n",
       "      <th>9</th>\n",
       "      <td>3.376246</td>\n",
       "      <td>2.874286</td>\n",
       "      <td>314164.466451</td>\n",
       "      <td>0.1</td>\n",
       "    </tr>\n",
       "  </tbody>\n",
       "</table>\n",
       "</div>"
      ],
      "text/plain": [
       "       pred       act         Weight  bin_pct\n",
       "0  0.239041  0.573728  314164.969098      0.1\n",
       "1  0.348738  0.457407  314163.831041      0.1\n",
       "2  0.416024  0.537972  314164.716391      0.1\n",
       "3  0.493747  0.799847  314164.219429      0.1\n",
       "4  0.606842  1.336749  314163.741701      0.1\n",
       "5  0.752343  1.098013  314164.868437      0.1\n",
       "6  0.928232  0.597644  314164.129867      0.1\n",
       "7  1.195926  0.544422  314163.934636      0.1\n",
       "8  1.642860  1.179931  314164.791655      0.1\n",
       "9  3.376246  2.874286  314164.466451      0.1"
      ]
     },
     "execution_count": 89,
     "metadata": {},
     "output_type": "execute_result"
    }
   ],
   "source": [
    "component_lift(file_path = 'UMB_Tar_holdout_data_pooldigit_1011', state = 'All', bins =10)\n"
   ]
  },
  {
   "cell_type": "markdown",
   "id": "32122906-0fa4-4970-9bad-7ed9961711d6",
   "metadata": {},
   "source": [
    "### GINI CURVE"
   ]
  },
  {
   "cell_type": "code",
   "execution_count": 34,
   "id": "8b6882c0-f5b3-478a-be54-558adac22a5c",
   "metadata": {
    "tags": []
   },
   "outputs": [],
   "source": [
    "# run each time program is opened\n",
    "\n",
    "def gini_curve(data, pred, obs, weight):\n",
    "    # This function creates the lift chart from our modeling dataset using the traditional property methodolgy \n",
    "    \n",
    "    df = pd.DataFrame({'p': data[pred], 'a': data[obs], 'w': data[weight]})\n",
    "    # Curve calculated on pred * weight\n",
    "    df[\"pw\"] = df.p * df.w\n",
    "    \n",
    "    order = df.pw[df.p.argsort()].cumsum()\n",
    "    print(df.head())\n",
    "    \n",
    "    return order"
   ]
  },
  {
   "cell_type": "code",
   "execution_count": 90,
   "id": "6011c394-203c-41fb-9a87-d99066033837",
   "metadata": {
    "tags": []
   },
   "outputs": [
    {
     "name": "stdout",
     "output_type": "stream",
     "text": [
      "          p    a        w        pw\n",
      "0  1.444933  0.0  0.37500  0.541850\n",
      "1  1.444933  0.0  0.37500  0.541850\n",
      "2  1.444933  0.0  0.03629  0.052437\n",
      "3  1.444933  0.0  0.37500  0.541850\n",
      "4  1.444933  0.0  0.12500  0.180617\n",
      "0.4717781457953436\n"
     ]
    },
    {
     "data": {
      "image/png": "[encoded data removed]",
      "text/plain": [
       "<Figure size 640x480 with 1 Axes>"
      ]
     },
     "metadata": {},
     "output_type": "display_data"
    }
   ],
   "source": [
    "# PRED * WEIGHT(ECM)\n",
    "# ensure your arr is sorted from lowest to highest values first!\n",
    "scores = score_state(state = 'All', file_path = 'UMB_Tar_holdout_data_pooldigit_1011')\n",
    "arr = gini_curve(data = scores, pred = 'UMB_Tar_Loss', obs = 'UMB_Loss', weight = 'UMB_ECM')\n",
    "\n",
    "def gini(arr):\n",
    "    count = arr.size\n",
    "    coefficient = 2 / count\n",
    "    indexes = np.arange(1, count + 1)\n",
    "    weighted_sum = (indexes * arr).sum()\n",
    "    total = arr.sum()\n",
    "    constant = (count + 1) / count\n",
    "    return coefficient * weighted_sum / total - constant\n",
    "\n",
    "def lorenz(arr):\n",
    "    # this divides the prefix sum by the total sum\n",
    "    # this ensures all the values are between 0 and 1.0\n",
    "    scaled_prefix_sum = arr.cumsum() / arr.sum()\n",
    "    # this prepends the 0 value (because 0% of all people have 0% of all wealth)\n",
    "    return np.insert(scaled_prefix_sum, 0, 0)\n",
    "\n",
    "# show the gini index!\n",
    "print(gini(arr))\n",
    "\n",
    "lorenz_curve = lorenz(arr)\n",
    "\n",
    "# we need the X values to be between 0.0 to 1.0\n",
    "plt.plot(np.linspace(0.0, 1.0, lorenz_curve.size), lorenz_curve)\n",
    "# plot the straight line perfect equality curve\n",
    "plt.plot([0,1], [0,1])\n",
    "plt.show()"
   ]
  },
  {
   "cell_type": "code",
   "execution_count": 18,
   "id": "ff568ed9-3f27-44ac-bc28-fbc090ca05d9",
   "metadata": {
    "tags": []
   },
   "outputs": [
    {
     "name": "stdout",
     "output_type": "stream",
     "text": [
      "6577721\n"
     ]
    }
   ],
   "source": [
    "count = arr.size\n",
    "print(count)"
   ]
  },
  {
   "cell_type": "code",
   "execution_count": 91,
   "id": "395059ae-be5e-4d44-a106-bcd60a18b4fd",
   "metadata": {
    "tags": []
   },
   "outputs": [
    {
     "data": {
      "image/png": "[encoded data removed]",
      "text/plain": [
       "<Figure size 640x480 with 1 Axes>"
      ]
     },
     "metadata": {},
     "output_type": "display_data"
    }
   ],
   "source": [
    "# !pip install xlsxwriter\n",
    "import xlsxwriter\n",
    "import numpy as np\n",
    "import matplotlib.pyplot as plt\n",
    "import io\n",
    "\n",
    "# show the gini index!\n",
    "coef = (gini(arr))\n",
    "\n",
    "mean = np.linspace(0.0, 1.0, lorenz(arr).size)\n",
    "lorenz_curve = lorenz(arr)\n",
    "\n",
    "# we need the X values to be between 0.0 to 1.0\n",
    "fig,ax = plt.subplots()\n",
    "# plot the straight line perfect equality curve\n",
    "ax.plot([0,1], [0,1], mean, lorenz_curve)\n",
    "# ax.show()\n",
    "\n",
    "# x=np.linspace(-10,10,100)\n",
    "# y=x**2\n",
    "\n",
    "# fig,ax=plt.subplots()\n",
    "# ax.plot(x,y)\n",
    "\n",
    "workbook = xlsxwriter.Workbook('Gini_curve_Blend_30%.xlsx')\n",
    "wks1=workbook.add_worksheet('HO_5')\n",
    "wks1.write(0,0,'Gini coef')\n",
    "wks1.write(0,2,gini(arr))\n",
    "\n",
    "imgdata=io.BytesIO()\n",
    "fig.savefig(imgdata, format='png')\n",
    "wks1.insert_image(2,2, '', {'image_data': imgdata})\n",
    "\n",
    "workbook.close()"
   ]
  },
  {
   "cell_type": "markdown",
   "id": "fea9d1d5-4dc0-40c6-8abd-09d3b4b97136",
   "metadata": {},
   "source": [
    "### Q-Q PLOT"
   ]
  },
  {
   "cell_type": "code",
   "execution_count": 99,
   "id": "09ccb45a-d9ed-4f8a-b424-9e14f6d98f96",
   "metadata": {
    "tags": []
   },
   "outputs": [],
   "source": [
    "# run each time program is opened\n",
    "\n",
    "def qq_plot(data, pred, obs, weight):\n",
    "    # This function creates the lift chart using auto's method of normaling by state and year\n",
    "    \n",
    "    df = pd.DataFrame({'p': data[pred], 'a': data[obs], 'w': data[weight]})\n",
    "    df[\"pw\"] = df.p * df.w\n",
    "    df[\"aw\"] = df.a * 1\n",
    "    \n",
    "    # df[\"res\"] = df.pw - df.aw\n",
    "    a_mean = df['aw'].mean()\n",
    "    a_std = df['aw'].std()\n",
    "    print(a_mean)\n",
    "    df['res_norm'] = (df['pw']-a_mean)/a_std\n",
    "    \n",
    "#     order = df.w[df.res_norm.argsort()].cumsum()\n",
    "#     percentile = order / order.iloc[-1]\n",
    "#     percentile = percentile.dropna()\n",
    "#     df['bin'] = pd.cut(x = percentile, bins = bins, labels = False, duplicates = 'drop').sort_index()\n",
    "\n",
    "#     g = df.groupby('bin')\n",
    "#     g_bin = g[['rpw', 'aw', 'w']].sum().reset_index()\n",
    "#     g_bin['records'] = g.size()\n",
    "\n",
    "#     g_bin['pred'] = (g_bin.rpw / g_bin.w) / (g_bin.rpw.sum() / g_bin.w.sum())\n",
    "#     g_bin['act'] = (g_bin.aw / g_bin.w) / (g_bin.aw.sum() / g_bin.w.sum())\n",
    "\n",
    "#     g_bin['bin_pct'] = g_bin.w / g_bin.w.sum()\n",
    "\n",
    "#     g_bin = g_bin[['pred', 'act', 'bin_pct', 'w']]\n",
    "\n",
    "#     pd.set_option('display.max_rows', None)\n",
    "#     results = pd.DataFrame({'pred': g_bin['pred'], 'act': g_bin['act'], 'Weight': g_bin['w'], 'bin_pct': g_bin['bin_pct']})\n",
    "    \n",
    "    \n",
    "    return df['res_norm']"
   ]
  },
  {
   "cell_type": "code",
   "execution_count": 100,
   "id": "a04ec685-6ad2-43db-91ea-70c980dc2fd8",
   "metadata": {
    "tags": []
   },
   "outputs": [
    {
     "name": "stdout",
     "output_type": "stream",
     "text": [
      "5.703754131053396\n"
     ]
    }
   ],
   "source": [
    "scores = score_state(state = 'All', file_path = 'UMB_Tar_holdout_data_pooldigit_1011')\n",
    "qq = qq_plot(data = scores, pred = 'UMB_Tar_Loss', obs = 'UMB_Loss', weight = 'UMB_ECM')\n",
    "# print(qq)"
   ]
  },
  {
   "cell_type": "code",
   "execution_count": 107,
   "id": "79a68104-0655-4bf6-bb41-fc4b966711cb",
   "metadata": {
    "tags": []
   },
   "outputs": [
    {
     "name": "stderr",
     "output_type": "stream",
     "text": [
      "IOPub data rate exceeded.\n",
      "The Jupyter server will temporarily stop sending output\n",
      "to the client in order to avoid crashing it.\n",
      "To change this limit, set the config variable\n",
      "`--ServerApp.iopub_data_rate_limit`.\n",
      "\n",
      "Current values:\n",
      "ServerApp.iopub_data_rate_limit=1000000.0 (bytes/sec)\n",
      "ServerApp.rate_limit_window=3.0 (secs)\n",
      "\n",
      "IOStream.flush timed out\n"
     ]
    }
   ],
   "source": [
    "print(scores)"
   ]
  },
  {
   "cell_type": "code",
   "execution_count": 108,
   "id": "91babace-98c7-465c-8ed0-8c8aa11cecc7",
   "metadata": {
    "tags": []
   },
   "outputs": [],
   "source": [
    "scores.to_csv('Scores.csv', index = False, header=True)"
   ]
  },
  {
   "cell_type": "code",
   "execution_count": 104,
   "id": "52f3614a-ad0f-4789-9c62-3f7e025b68b1",
   "metadata": {
    "tags": []
   },
   "outputs": [
    {
     "name": "stdout",
     "output_type": "stream",
     "text": [
      "-0.004262907403887524\n",
      "0.0012878739948746177\n"
     ]
    }
   ],
   "source": [
    "res_mean = qq.mean()\n",
    "res_std = qq.std()\n",
    "print(res_mean)\n",
    "print(res_std)"
   ]
  },
  {
   "cell_type": "code",
   "execution_count": 113,
   "id": "c67f505a-214f-4612-b4a0-487d293bea6b",
   "metadata": {
    "tags": []
   },
   "outputs": [
    {
     "data": {
      "image/png": "[encoded data removed]",
      "text/plain": [
       "<Figure size 640x480 with 1 Axes>"
      ]
     },
     "metadata": {},
     "output_type": "display_data"
    }
   ],
   "source": [
    "# !pip install statsmodels==0.12.2\n",
    "import numpy as np \n",
    "import statsmodels.api as sm \n",
    "import pylab as py\n",
    "\n",
    "data_points = np.random.normal(0, 1, 100)     \n",
    "  \n",
    "sm.qqplot(qq, line ='45') \n",
    "py.show()"
   ]
  },
  {
   "cell_type": "code",
   "execution_count": 106,
   "id": "2880c931-8fe3-469d-ac22-43447976dbf8",
   "metadata": {
    "tags": []
   },
   "outputs": [
    {
     "data": {
      "text/plain": [
       "<Axes: >"
      ]
     },
     "execution_count": 106,
     "metadata": {},
     "output_type": "execute_result"
    },
    {
     "data": {
      "image/png": "[encoded data removed]",
      "text/plain": [
       "<Figure size 640x480 with 1 Axes>"
      ]
     },
     "metadata": {},
     "output_type": "display_data"
    }
   ],
   "source": [
    "qq.hist()"
   ]
  },
  {
   "cell_type": "code",
   "execution_count": 98,
   "id": "6e6f0a0e-2b5a-412f-9559-40a017d39120",
   "metadata": {
    "tags": []
   },
   "outputs": [
    {
     "data": {
      "image/png": "[encoded data removed]",
      "text/plain": [
       "<Figure size 640x480 with 1 Axes>"
      ]
     },
     "metadata": {},
     "output_type": "display_data"
    }
   ],
   "source": [
    "import pylab\n",
    "import scipy.stats as stats\n",
    "\n",
    "stats.probplot(qq, dist=\"norm\", plot = pylab)\n",
    "pylab.show()"
   ]
  },
  {
   "cell_type": "code",
   "execution_count": 112,
   "id": "046dad11-b243-45f4-92ff-416db3d2d951",
   "metadata": {
    "tags": []
   },
   "outputs": [
    {
     "name": "stdout",
     "output_type": "stream",
     "text": [
      "p value is : 0.0\n"
     ]
    }
   ],
   "source": [
    "# importing packages \n",
    "import scipy.stats \n",
    "  \n",
    "# finding p-value \n",
    "p_value = scipy.stats.norm.sf(abs(28040.21555))*2\n",
    "print('p value is : ' + str(p_value))"
   ]
  },
  {
   "cell_type": "code",
   "execution_count": 119,
   "id": "97c918f2-cd19-428a-b008-36d51b2f47fa",
   "metadata": {
    "tags": []
   },
   "outputs": [
    {
     "data": {
      "image/png": "[encoded data removed]",
      "text/plain": [
       "<Figure size 1000x1000 with 1 Axes>"
      ]
     },
     "metadata": {},
     "output_type": "display_data"
    }
   ],
   "source": [
    "# observed versus predicted\n",
    "predicted_value = scores['UMB_Tar_Loss']\n",
    "obs_value  = scores['UMB_Loss']\n",
    "\n",
    "plt.figure(figsize=(10,10))\n",
    "plt.scatter(obs_value, predicted_value, c='crimson')\n",
    "plt.yscale('log')\n",
    "plt.xscale('log')\n",
    "\n",
    "p1 = max(max(predicted_value), max(obs_value))\n",
    "p2 = min(min(predicted_value), min(obs_value))\n",
    "plt.plot([p1, p2], [p1, p2], 'b-')\n",
    "plt.xlabel('Observed', fontsize=15)\n",
    "plt.ylabel('Predictions', fontsize=15)\n",
    "plt.axis('equal')\n",
    "plt.show()"
   ]
  },
  {
   "cell_type": "code",
   "execution_count": 124,
   "id": "d7403145-a4e8-4ddc-b655-b0bffe685c1d",
   "metadata": {
    "tags": []
   },
   "outputs": [
    {
     "ename": "TypeError",
     "evalue": "residplot() takes from 0 to 1 positional arguments but 2 were given",
     "output_type": "error",
     "traceback": [
      "\u001b[0;31m---------------------------------------------------------------------------\u001b[0m",
      "\u001b[0;31mTypeError\u001b[0m                                 Traceback (most recent call last)",
      "Cell \u001b[0;32mIn[124], line 3\u001b[0m\n\u001b[1;32m      1\u001b[0m \u001b[38;5;28;01mimport\u001b[39;00m \u001b[38;5;21;01mseaborn\u001b[39;00m \u001b[38;5;28;01mas\u001b[39;00m \u001b[38;5;21;01msns\u001b[39;00m\n\u001b[1;32m      2\u001b[0m plt\u001b[38;5;241m.\u001b[39mfigure(figsize\u001b[38;5;241m=\u001b[39m(\u001b[38;5;241m10000000\u001b[39m,\u001b[38;5;241m10000000\u001b[39m))\n\u001b[0;32m----> 3\u001b[0m sns\u001b[38;5;241m.\u001b[39mresidplot(scores[\u001b[38;5;124m'\u001b[39m\u001b[38;5;124mUMB_Loss\u001b[39m\u001b[38;5;124m'\u001b[39m], scores[\u001b[38;5;124m'\u001b[39m\u001b[38;5;124mUMB_Tar_Loss\u001b[39m\u001b[38;5;124m'\u001b[39m])\n\u001b[1;32m      4\u001b[0m plt\u001b[38;5;241m.\u001b[39mshow()\n",
      "\u001b[0;31mTypeError\u001b[0m: residplot() takes from 0 to 1 positional arguments but 2 were given"
     ]
    },
    {
     "name": "stdout",
     "output_type": "stream",
     "text": [
      "Error in callback <function _draw_all_if_interactive at 0x7f19e873c180> (for post_execute):\n"
     ]
    },
    {
     "ename": "ValueError",
     "evalue": "Image size of 1000000000x1000000000 pixels is too large. It must be less than 2^16 in each direction.",
     "output_type": "error",
     "traceback": [
      "\u001b[0;31m---------------------------------------------------------------------------\u001b[0m",
      "\u001b[0;31mValueError\u001b[0m                                Traceback (most recent call last)",
      "File \u001b[0;32m/opt/cortex-installs/miniconda/envs/cortex-python3/lib/python3.11/site-packages/matplotlib/pyplot.py:197\u001b[0m, in \u001b[0;36m_draw_all_if_interactive\u001b[0;34m()\u001b[0m\n\u001b[1;32m    195\u001b[0m \u001b[38;5;28;01mdef\u001b[39;00m \u001b[38;5;21m_draw_all_if_interactive\u001b[39m() \u001b[38;5;241m-\u001b[39m\u001b[38;5;241m>\u001b[39m \u001b[38;5;28;01mNone\u001b[39;00m:\n\u001b[1;32m    196\u001b[0m     \u001b[38;5;28;01mif\u001b[39;00m matplotlib\u001b[38;5;241m.\u001b[39mis_interactive():\n\u001b[0;32m--> 197\u001b[0m         draw_all()\n",
      "File \u001b[0;32m/opt/cortex-installs/miniconda/envs/cortex-python3/lib/python3.11/site-packages/matplotlib/_pylab_helpers.py:132\u001b[0m, in \u001b[0;36mGcf.draw_all\u001b[0;34m(cls, force)\u001b[0m\n\u001b[1;32m    130\u001b[0m \u001b[38;5;28;01mfor\u001b[39;00m manager \u001b[38;5;129;01min\u001b[39;00m \u001b[38;5;28mcls\u001b[39m\u001b[38;5;241m.\u001b[39mget_all_fig_managers():\n\u001b[1;32m    131\u001b[0m     \u001b[38;5;28;01mif\u001b[39;00m force \u001b[38;5;129;01mor\u001b[39;00m manager\u001b[38;5;241m.\u001b[39mcanvas\u001b[38;5;241m.\u001b[39mfigure\u001b[38;5;241m.\u001b[39mstale:\n\u001b[0;32m--> 132\u001b[0m         manager\u001b[38;5;241m.\u001b[39mcanvas\u001b[38;5;241m.\u001b[39mdraw_idle()\n",
      "File \u001b[0;32m/opt/cortex-installs/miniconda/envs/cortex-python3/lib/python3.11/site-packages/matplotlib/backend_bases.py:1893\u001b[0m, in \u001b[0;36mFigureCanvasBase.draw_idle\u001b[0;34m(self, *args, **kwargs)\u001b[0m\n\u001b[1;32m   1891\u001b[0m \u001b[38;5;28;01mif\u001b[39;00m \u001b[38;5;129;01mnot\u001b[39;00m \u001b[38;5;28mself\u001b[39m\u001b[38;5;241m.\u001b[39m_is_idle_drawing:\n\u001b[1;32m   1892\u001b[0m     \u001b[38;5;28;01mwith\u001b[39;00m \u001b[38;5;28mself\u001b[39m\u001b[38;5;241m.\u001b[39m_idle_draw_cntx():\n\u001b[0;32m-> 1893\u001b[0m         \u001b[38;5;28mself\u001b[39m\u001b[38;5;241m.\u001b[39mdraw(\u001b[38;5;241m*\u001b[39margs, \u001b[38;5;241m*\u001b[39m\u001b[38;5;241m*\u001b[39mkwargs)\n",
      "File \u001b[0;32m/opt/cortex-installs/miniconda/envs/cortex-python3/lib/python3.11/site-packages/matplotlib/backends/backend_agg.py:383\u001b[0m, in \u001b[0;36mFigureCanvasAgg.draw\u001b[0;34m(self)\u001b[0m\n\u001b[1;32m    381\u001b[0m \u001b[38;5;28;01mdef\u001b[39;00m \u001b[38;5;21mdraw\u001b[39m(\u001b[38;5;28mself\u001b[39m):\n\u001b[1;32m    382\u001b[0m     \u001b[38;5;66;03m# docstring inherited\u001b[39;00m\n\u001b[0;32m--> 383\u001b[0m     \u001b[38;5;28mself\u001b[39m\u001b[38;5;241m.\u001b[39mrenderer \u001b[38;5;241m=\u001b[39m \u001b[38;5;28mself\u001b[39m\u001b[38;5;241m.\u001b[39mget_renderer()\n\u001b[1;32m    384\u001b[0m     \u001b[38;5;28mself\u001b[39m\u001b[38;5;241m.\u001b[39mrenderer\u001b[38;5;241m.\u001b[39mclear()\n\u001b[1;32m    385\u001b[0m     \u001b[38;5;66;03m# Acquire a lock on the shared font cache.\u001b[39;00m\n",
      "File \u001b[0;32m/opt/cortex-installs/miniconda/envs/cortex-python3/lib/python3.11/site-packages/matplotlib/backends/backend_agg.py:398\u001b[0m, in \u001b[0;36mFigureCanvasAgg.get_renderer\u001b[0;34m(self)\u001b[0m\n\u001b[1;32m    396\u001b[0m reuse_renderer \u001b[38;5;241m=\u001b[39m (\u001b[38;5;28mself\u001b[39m\u001b[38;5;241m.\u001b[39m_lastKey \u001b[38;5;241m==\u001b[39m key)\n\u001b[1;32m    397\u001b[0m \u001b[38;5;28;01mif\u001b[39;00m \u001b[38;5;129;01mnot\u001b[39;00m reuse_renderer:\n\u001b[0;32m--> 398\u001b[0m     \u001b[38;5;28mself\u001b[39m\u001b[38;5;241m.\u001b[39mrenderer \u001b[38;5;241m=\u001b[39m RendererAgg(w, h, \u001b[38;5;28mself\u001b[39m\u001b[38;5;241m.\u001b[39mfigure\u001b[38;5;241m.\u001b[39mdpi)\n\u001b[1;32m    399\u001b[0m     \u001b[38;5;28mself\u001b[39m\u001b[38;5;241m.\u001b[39m_lastKey \u001b[38;5;241m=\u001b[39m key\n\u001b[1;32m    400\u001b[0m \u001b[38;5;28;01mreturn\u001b[39;00m \u001b[38;5;28mself\u001b[39m\u001b[38;5;241m.\u001b[39mrenderer\n",
      "File \u001b[0;32m/opt/cortex-installs/miniconda/envs/cortex-python3/lib/python3.11/site-packages/matplotlib/backends/backend_agg.py:70\u001b[0m, in \u001b[0;36mRendererAgg.__init__\u001b[0;34m(self, width, height, dpi)\u001b[0m\n\u001b[1;32m     68\u001b[0m \u001b[38;5;28mself\u001b[39m\u001b[38;5;241m.\u001b[39mwidth \u001b[38;5;241m=\u001b[39m width\n\u001b[1;32m     69\u001b[0m \u001b[38;5;28mself\u001b[39m\u001b[38;5;241m.\u001b[39mheight \u001b[38;5;241m=\u001b[39m height\n\u001b[0;32m---> 70\u001b[0m \u001b[38;5;28mself\u001b[39m\u001b[38;5;241m.\u001b[39m_renderer \u001b[38;5;241m=\u001b[39m _RendererAgg(\u001b[38;5;28mint\u001b[39m(width), \u001b[38;5;28mint\u001b[39m(height), dpi)\n\u001b[1;32m     71\u001b[0m \u001b[38;5;28mself\u001b[39m\u001b[38;5;241m.\u001b[39m_filter_renderers \u001b[38;5;241m=\u001b[39m []\n\u001b[1;32m     73\u001b[0m \u001b[38;5;28mself\u001b[39m\u001b[38;5;241m.\u001b[39m_update_methods()\n",
      "\u001b[0;31mValueError\u001b[0m: Image size of 1000000000x1000000000 pixels is too large. It must be less than 2^16 in each direction."
     ]
    },
    {
     "data": {
      "text/plain": [
       "<Figure size 1e+09x1e+09 with 0 Axes>"
      ]
     },
     "metadata": {},
     "output_type": "display_data"
    }
   ],
   "source": [
    "import seaborn as sns\n",
    "plt.figure(figsize=(10000000,10000000))\n",
    "sns.residplot(scores['UMB_Loss'], scores['UMB_Tar_Loss'])\n",
    "plt.show()"
   ]
  }
 ],
 "metadata": {
  "kernelspec": {
   "display_name": "Cortex-Python3",
   "language": "python",
   "name": "python3"
  },
  "language_info": {
   "codemirror_mode": {
    "name": "ipython",
    "version": 3
   },
   "file_extension": ".py",
   "mimetype": "text/x-python",
   "name": "python",
   "nbconvert_exporter": "python",
   "pygments_lexer": "ipython3",
   "version": "3.11.5"
  }
 },
 "nbformat": 4,
 "nbformat_minor": 5
}
